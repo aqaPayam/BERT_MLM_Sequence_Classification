{
  "cells": [
    {
      "cell_type": "markdown",
      "source": [
        "# Masked Language Modelling and Sequence Classification with Bert\n",
        "### HW3 @ DL Course, Dr. Soleymani\n",
        "\n",
        "*Full Name:* Payam Taebi\n",
        "\n",
        "*SID:* 400104867\n",
        "\n",
        "In this notebook, we leverage the \"rotten_tomatoes\" dataset from HuggingFace, containing movie reviews from Rotten Tomatoes. Our objectives are twofold:\n",
        "\n",
        "\n",
        "1.   Perform Masked Language Modeling (MLM) on the training portion of provided dataset.\n",
        "2.   Construct a classifier to discern between positive and negative reviews.\n",
        "\n",
        "To achieve these goals, we employ a customized smaller version of BERT. This choice facilitates training and computation, ensuring efficiency and feasibility."
      ],
      "metadata": {
        "id": "CYYTGCyopOF4"
      }
    },
    {
      "cell_type": "code",
      "execution_count": 1,
      "metadata": {
        "id": "Dec85jnglOKx"
      },
      "outputs": [],
      "source": [
        "# Install necessary packages\n",
        "%%capture\n",
        "!pip install datasets\n",
        "!pip install transformers\n",
        "!pip install evaluate\n",
        "!pip install accelerate -U"
      ]
    },
    {
      "cell_type": "code",
      "execution_count": 2,
      "metadata": {
        "id": "aa8be324-cd04-4c0f-9d96-084dde0dcc19"
      },
      "outputs": [],
      "source": [
        "# Import necessary libraries\n",
        "import numpy as np\n",
        "import pandas as pd\n",
        "import torch\n",
        "import torch.nn as nn\n",
        "import torch.optim as optim\n",
        "from tqdm.notebook import tqdm\n",
        "from datasets import load_dataset\n",
        "import matplotlib.pyplot as plt"
      ]
    },
    {
      "cell_type": "code",
      "execution_count": 3,
      "metadata": {
        "id": "DtHmV2zIv-Iv"
      },
      "outputs": [],
      "source": [
        "# Set up basic configurations for training\n",
        "batch_size = 32\n",
        "learning_rate = 1e-5\n",
        "num_epoch = 5\n",
        "num_labels = 2\n",
        "np.random.seed(42)\n",
        "torch.manual_seed(42)\n",
        "\n",
        "# Select device for training (GPU if available, otherwise CPU)\n",
        "device = torch.device(\"cuda:0\" if torch.cuda.is_available() else \"cpu\")"
      ]
    },
    {
      "cell_type": "code",
      "execution_count": 4,
      "metadata": {
        "id": "e6d7cd82-ef6a-43b1-a1f1-9ec8ce79ec46",
        "colab": {
          "base_uri": "https://localhost:8080/"
        },
        "outputId": "81edf233-18d1-427d-a5e6-0e268b51a1d0"
      },
      "outputs": [
        {
          "output_type": "stream",
          "name": "stderr",
          "text": [
            "/usr/local/lib/python3.10/dist-packages/huggingface_hub/utils/_token.py:89: UserWarning: \n",
            "The secret `HF_TOKEN` does not exist in your Colab secrets.\n",
            "To authenticate with the Hugging Face Hub, create a token in your settings tab (https://huggingface.co/settings/tokens), set it as secret in your Google Colab and restart your session.\n",
            "You will be able to reuse this secret in all of your notebooks.\n",
            "Please note that authentication is recommended but still optional to access public models or datasets.\n",
            "  warnings.warn(\n"
          ]
        },
        {
          "output_type": "execute_result",
          "data": {
            "text/plain": [
              "DatasetDict({\n",
              "    train: Dataset({\n",
              "        features: ['text', 'label'],\n",
              "        num_rows: 8530\n",
              "    })\n",
              "    validation: Dataset({\n",
              "        features: ['text', 'label'],\n",
              "        num_rows: 1066\n",
              "    })\n",
              "    test: Dataset({\n",
              "        features: ['text', 'label'],\n",
              "        num_rows: 1066\n",
              "    })\n",
              "})"
            ]
          },
          "metadata": {},
          "execution_count": 4
        }
      ],
      "source": [
        "# Load the Rotten Tomatoes dataset\n",
        "dataset = load_dataset('rotten_tomatoes')\n",
        "dataset"
      ]
    },
    {
      "cell_type": "markdown",
      "source": [
        "In all subsequent sections, we utilize the pre-trained BERT tokenizer. Thus, we begin by importing and initializing it here."
      ],
      "metadata": {
        "id": "O_4qn4pIsXzO"
      }
    },
    {
      "cell_type": "code",
      "execution_count": 5,
      "metadata": {
        "id": "OT2u5JK16odA"
      },
      "outputs": [],
      "source": [
        "# Import BertTokenizer from the transformers library\n",
        "from transformers import BertTokenizer\n",
        "\n",
        "# Load the pre-trained BertTokenizer model 'bert-base-uncased'\n",
        "tokenizer = BertTokenizer.from_pretrained('bert-base-uncased')"
      ]
    },
    {
      "cell_type": "markdown",
      "source": [
        "We will utilize this configuration for the BERT model in subsequent sections."
      ],
      "metadata": {
        "id": "3U5UmefKszdS"
      }
    },
    {
      "cell_type": "code",
      "execution_count": 6,
      "metadata": {
        "id": "kNEVAiDT2PWC"
      },
      "outputs": [],
      "source": [
        "# Import BertConfig from the transformers library\n",
        "from transformers import BertConfig\n",
        "\n",
        "# Define configuration parameters for the BERT model\n",
        "config = BertConfig(\n",
        "    hidden_size = 384,\n",
        "    vocab_size= tokenizer.vocab_size,\n",
        "    num_hidden_layers = 6,\n",
        "    num_attention_heads = 6,\n",
        "    intermediate_size = 1024,\n",
        "    max_position_embeddings = 256\n",
        ")"
      ]
    },
    {
      "cell_type": "markdown",
      "metadata": {
        "id": "dE_mDDszvhlD"
      },
      "source": [
        "# 1 Masked Language Modeling"
      ]
    },
    {
      "cell_type": "markdown",
      "source": [
        "Masked Language Modeling (MLM) is a fundamental task in natural language processing (NLP) where a `head` is placed on top of a `BERT` (Bidirectional Encoder Representations from Transformers) model to `perform predictions`.\n",
        "In MLM, certain words or tokens in a sentence are randomly masked or replaced with a special token, and the model is trained to predict the original words based on the context of the surrounding tokens. The objective of MLM is to encourage the model to learn contextual relationships between words and understand the overall structure and semantics of the language. During training, the model receives input sequences with masked tokens and is trained to generate the correct tokens for the masked positions. MLM serves as a crucial pre-training step in learning rich contextual representations of words, which can be transferred to downstream tasks such as text classification, named entity recognition, and question answering.\n",
        "![](https://editor.analyticsvidhya.com/uploads/22971fig-3.png)\n",
        "---"
      ],
      "metadata": {
        "id": "egKDhuNcvOoZ"
      }
    },
    {
      "cell_type": "markdown",
      "metadata": {
        "id": "xo7Bb0ckvobA"
      },
      "source": [
        "## 1.1 Dateset preparation for MLM"
      ]
    },
    {
      "cell_type": "code",
      "execution_count": 7,
      "metadata": {
        "id": "40b7cb3f-08f6-4a05-8cc5-542076798680"
      },
      "outputs": [],
      "source": [
        "# Define a function to preprocess text data for masked language modeling (MLM)\n",
        "def mlm_map_function(rows):\n",
        "    # Tokenize the text with specified tokenizer parameters\n",
        "    input_info = tokenizer(rows['text'], max_length=128, padding=\"max_length\", truncation=True, return_tensors='pt')\n",
        "    return {\n",
        "        **input_info,\n",
        "        'labels': input_info['input_ids']\n",
        "        }\n",
        "\n",
        "# Apply the mlm_map_function to the dataset for masked language modeling (MLM)\n",
        "mlm_dataset = dataset.map(mlm_map_function, batched=True, num_proc=2, remove_columns=dataset['train'].column_names)"
      ]
    },
    {
      "cell_type": "code",
      "execution_count": 8,
      "metadata": {
        "id": "8oEREo8XwD4-"
      },
      "outputs": [],
      "source": [
        "# Import DataCollatorForLanguageModeling from transformers\n",
        "from transformers import DataCollatorForLanguageModeling\n",
        "\n",
        "# Create a data collator for MLM training\n",
        "collate_fn = DataCollatorForLanguageModeling(tokenizer=tokenizer, mlm=True, mlm_probability=0.15)\n",
        "\n",
        "# Create a DataLoader for MLM training\n",
        "train_dataloader = torch.utils.data.DataLoader(\n",
        "    mlm_dataset['train'],\n",
        "    collate_fn=collate_fn,\n",
        "    batch_size=batch_size\n",
        "    )\n"
      ]
    },
    {
      "cell_type": "markdown",
      "metadata": {
        "id": "R5vhcoIzwxgN"
      },
      "source": [
        "## 1.2 BertModel + MLMHead + Custom trainer"
      ]
    },
    {
      "cell_type": "code",
      "execution_count": 9,
      "metadata": {
        "id": "LOz0RzCtdlNH"
      },
      "outputs": [],
      "source": [
        "import torch\n",
        "import torch.nn as nn\n",
        "\n",
        "class MLMHead(nn.Module):\n",
        "    \"\"\"\n",
        "    Multi-Layer Perceptron (MLP) head for Masked Language Modeling (MLM) task.\n",
        "\n",
        "    Parameters:\n",
        "        bert_model (torch.nn.Module): BERT model.\n",
        "        hidden_size (int): Size of the hidden layers in the MLP head. Default is 384.\n",
        "        vocab_size (int): Size of the vocabulary. Default is 30522.\n",
        "    \"\"\"\n",
        "\n",
        "    def __init__(self, bert_model, hidden_size=384, vocab_size=30522):\n",
        "        super(MLMHead, self).__init__()\n",
        "\n",
        "        self.embedder = bert_model\n",
        "        self.dense = nn.Linear(bert_model.config.hidden_size, hidden_size)\n",
        "        self.activation = nn.GELU()\n",
        "        self.layernorm = nn.LayerNorm(hidden_size)\n",
        "        self.decoder = nn.Linear(hidden_size, vocab_size)\n",
        "\n",
        "    def forward(self, input_ids, attention_mask):\n",
        "        \"\"\"\n",
        "        Forward pass of the MLMHead module.\n",
        "\n",
        "        Parameters:\n",
        "            input_ids (torch.Tensor): Tensor containing input token IDs.\n",
        "            attention_mask (torch.Tensor): Tensor containing attention mask.\n",
        "\n",
        "        Returns:\n",
        "            torch.Tensor: Output tensor of the MLM head.\n",
        "        \"\"\"\n",
        "\n",
        "        outputs = self.embedder(input_ids, attention_mask)\n",
        "        last_hidden_states = outputs.last_hidden_state  # Assuming BERT model returns last_hidden_state\n",
        "\n",
        "        hidden_states = self.activation(self.dense(last_hidden_states))\n",
        "        hidden_states = self.layernorm(hidden_states)\n",
        "\n",
        "        output = self.decoder(hidden_states)\n",
        "\n",
        "        return output\n"
      ]
    },
    {
      "cell_type": "code",
      "execution_count": 10,
      "metadata": {
        "id": "lcfOeiY1t32q"
      },
      "outputs": [],
      "source": [
        "from transformers import BertModel\n",
        "bert = BertModel(config)\n",
        "######################  TODO  ########################\n",
        "######################  TODO  ########################\n",
        "mlm_head = MLMHead(bert_model=bert).to(device)\n",
        "optimizer = optim.Adam(mlm_head.parameters(), lr=learning_rate)\n",
        "criterion = nn.CrossEntropyLoss()\n",
        "######################  TODO  ########################\n",
        "######################  TODO  ########################"
      ]
    },
    {
      "cell_type": "code",
      "execution_count": 11,
      "metadata": {
        "id": "w3OVO7m3g_ZI",
        "colab": {
          "base_uri": "https://localhost:8080/"
        },
        "outputId": "0ac0ac6d-21e6-4ad4-b0d7-8c094a6b5f9a"
      },
      "outputs": [
        {
          "output_type": "stream",
          "name": "stdout",
          "text": [
            "Epoch 1/5, Average Loss: 9.3979\n",
            "Epoch 2/5, Average Loss: 8.2638\n",
            "Epoch 3/5, Average Loss: 7.6525\n",
            "Epoch 4/5, Average Loss: 7.3223\n",
            "Epoch 5/5, Average Loss: 7.1220\n"
          ]
        }
      ],
      "source": [
        "######################  TODO  ########################\n",
        "######################  TODO  ########################\n",
        "# implement your training loop and train your model.\n",
        "losses = []\n",
        "\n",
        "\n",
        "for epoch in range(num_epoch):\n",
        "    pp = 0\n",
        "    total_loss = 0.0\n",
        "    for batch in train_dataloader:\n",
        "        pp+=1\n",
        "        input_ids = batch['input_ids'].to(device)\n",
        "        attention_mask = batch['attention_mask'].to(device)\n",
        "        labels = batch['labels'].to(device)\n",
        "\n",
        "        outputs = mlm_head(input_ids, attention_mask)\n",
        "        loss = criterion(outputs.view(-1, outputs.size(-1)), labels.view(-1))\n",
        "        total_loss += loss.item()\n",
        "        losses.append(total_loss/pp)\n",
        "\n",
        "        optimizer.zero_grad()\n",
        "        loss.backward()\n",
        "        optimizer.step()\n",
        "\n",
        "    avg_loss = total_loss / len(train_dataloader)\n",
        "\n",
        "\n",
        "    print(f'Epoch {epoch+1}/{num_epoch}, Average Loss: {avg_loss:.4f}')\n",
        "\n",
        "######################  TODO  ########################\n",
        "######################  TODO  ########################"
      ]
    },
    {
      "cell_type": "code",
      "execution_count": 12,
      "metadata": {
        "id": "WD46lFrY3G_l",
        "colab": {
          "base_uri": "https://localhost:8080/",
          "height": 472
        },
        "outputId": "688a06be-d68f-44e6-c108-d49fbff2dc6d"
      },
      "outputs": [
        {
          "output_type": "display_data",
          "data": {
            "text/plain": [
              "<Figure size 640x480 with 1 Axes>"
            ],
            "image/png": "[encoded data removed]"
          },
          "metadata": {}
        }
      ],
      "source": [
        "# Plot the losse for every batch in training process\n",
        "plt.plot(losses)\n",
        "plt.xlabel('Epoch')\n",
        "plt.ylabel('Loss')\n",
        "plt.title('Training Loss')\n",
        "plt.show()"
      ]
    },
    {
      "cell_type": "markdown",
      "metadata": {
        "id": "aKzprnnUySS1"
      },
      "source": [
        "## 1.3 BertForMaskedLM + huggingface trainer"
      ]
    },
    {
      "cell_type": "markdown",
      "source": [
        "[HuggingFace library](http://huggingface.co/) has built a nice API for NLP tasks around the transformers. To get familiar with this comrehensive library, In this section you are asked to use the huggingface `Trainer`, `Dataset`, and `BertForMaskedLM` to do what we did above again.\n",
        "\n",
        "Feel free to refer to the library documentation to learn about these modules.\n",
        "\n",
        "You should utilize the prepared dataset and configuration from earlier."
      ],
      "metadata": {
        "id": "B5Yb6G31xnML"
      }
    },
    {
      "cell_type": "code",
      "execution_count": 13,
      "metadata": {
        "id": "XuE9BueLL6u_",
        "colab": {
          "base_uri": "https://localhost:8080/",
          "height": 173
        },
        "outputId": "22adbf44-2e4b-4d73-f5a9-f6f05de585ad"
      },
      "outputs": [
        {
          "output_type": "display_data",
          "data": {
            "text/plain": [
              "<IPython.core.display.HTML object>"
            ],
            "text/html": [
              "\n",
              "    <div>\n",
              "      \n",
              "      <progress value='1335' max='1335' style='width:300px; height:20px; vertical-align: middle;'></progress>\n",
              "      [1335/1335 04:14, Epoch 5/5]\n",
              "    </div>\n",
              "    <table border=\"1\" class=\"dataframe\">\n",
              "  <thead>\n",
              " <tr style=\"text-align: left;\">\n",
              "      <th>Step</th>\n",
              "      <th>Training Loss</th>\n",
              "    </tr>\n",
              "  </thead>\n",
              "  <tbody>\n",
              "    <tr>\n",
              "      <td>500</td>\n",
              "      <td>7.609100</td>\n",
              "    </tr>\n",
              "    <tr>\n",
              "      <td>1000</td>\n",
              "      <td>6.821400</td>\n",
              "    </tr>\n",
              "  </tbody>\n",
              "</table><p>"
            ]
          },
          "metadata": {}
        },
        {
          "output_type": "execute_result",
          "data": {
            "text/plain": [
              "TrainOutput(global_step=1335, training_loss=7.101083179716761, metrics={'train_runtime': 254.7693, 'train_samples_per_second': 167.406, 'train_steps_per_second': 5.24, 'total_flos': 277250297932800.0, 'train_loss': 7.101083179716761, 'epoch': 5.0})"
            ]
          },
          "metadata": {},
          "execution_count": 13
        }
      ],
      "source": [
        "######################  TODO  ########################\n",
        "######################  TODO  ########################\n",
        "\n",
        "\n",
        "from transformers import Trainer, TrainingArguments, BertForMaskedLM, DataCollatorForLanguageModeling\n",
        "\n",
        "# Initialize BertForMaskedLM with the provided configuration\n",
        "model = BertForMaskedLM(config)\n",
        "\n",
        "# Define training arguments\n",
        "training_args = TrainingArguments(\n",
        "    output_dir='./results',\n",
        "    num_train_epochs=num_epoch,\n",
        "    per_device_train_batch_size=batch_size,\n",
        "    save_steps=5000,\n",
        "    save_total_limit=10\n",
        ")\n",
        "\n",
        "# Initialize Trainer\n",
        "trainer = Trainer(\n",
        "    model=model,\n",
        "    args=training_args,\n",
        "    data_collator=DataCollatorForLanguageModeling(tokenizer=tokenizer, mlm=True, mlm_probability=0.15),\n",
        "    train_dataset=mlm_dataset['train']\n",
        ")\n",
        "\n",
        "# Train the model\n",
        "trainer.train()\n",
        "\n",
        "\n",
        "\n",
        "\n",
        "######################  TODO  ########################\n",
        "######################  TODO  ########################"
      ]
    },
    {
      "cell_type": "markdown",
      "metadata": {
        "id": "jK3135pYyn2-"
      },
      "source": [
        "# 2 Sequence Classification"
      ]
    },
    {
      "cell_type": "markdown",
      "source": [
        "When you look at how `BERT encodes` text, you'll see that it creates a `vector` for each word in the input sentence. But for basic classification tasks, we don't need all those individual word vectors.\n",
        "\n",
        "Instead, we can just use the `first token's vector` because it captures the overall meaning of the sentence. BERT conveniently provides this vector for us in a special variable called `pooler_output`. So, in our classifier model, we'll use this pooler_output as the input for our classification head.\n",
        "![BERT pooler output](https://miro.medium.com/max/1100/1*Or3YV9sGX7W8QGF83es3gg.webp)"
      ],
      "metadata": {
        "id": "_RubHaoHyiiF"
      }
    },
    {
      "cell_type": "markdown",
      "metadata": {
        "id": "Ht3VEGJkzgyT"
      },
      "source": [
        "## 2.1 Dataset preparation for sequence classification"
      ]
    },
    {
      "cell_type": "code",
      "execution_count": 14,
      "metadata": {
        "id": "ZrQ0NwXwCWiu"
      },
      "outputs": [],
      "source": [
        "# Define a function to preprocess text data for classification\n",
        "def cls_map_function(rows):\n",
        "    # Tokenize the text with specified tokenizer parameters\n",
        "    input_info = tokenizer(rows['text'], truncation=True, max_length=128, padding=True)\n",
        "    return {\n",
        "        **input_info,\n",
        "        'labels': rows['label']\n",
        "        }\n",
        "\n",
        "# Apply the cls_map_function to the dataset for classification\n",
        "cls_dataset = dataset.map(cls_map_function, batched=True, num_proc=2, remove_columns=dataset['train'].column_names)"
      ]
    },
    {
      "cell_type": "code",
      "execution_count": 15,
      "metadata": {
        "id": "3c642c72-ca71-4191-86bc-aac8cae2510a"
      },
      "outputs": [],
      "source": [
        "# Import DataCollatorWithPadding from transformers\n",
        "from transformers import DataCollatorWithPadding\n",
        "\n",
        "# Create a data collator with padding\n",
        "col_fn = DataCollatorWithPadding(\n",
        "    tokenizer, return_tensors='pt', padding='longest',\n",
        ")\n",
        "\n",
        "# Create a DataLoader for training data\n",
        "train_loader = torch.utils.data.DataLoader(\n",
        "    cls_dataset['train'],\n",
        "    batch_size=batch_size,\n",
        "    collate_fn=col_fn,\n",
        "    shuffle=True\n",
        ")\n",
        "\n",
        "# Create a DataLoader for test data\n",
        "test_loader = torch.utils.data.DataLoader(\n",
        "    cls_dataset['test'],\n",
        "    batch_size=batch_size,\n",
        "    collate_fn=col_fn,\n",
        ")"
      ]
    },
    {
      "cell_type": "markdown",
      "metadata": {
        "id": "7MhmlkT0B0sk"
      },
      "source": [
        "## 2.2 BertModel + ClassifierHead + Custom trainer"
      ]
    },
    {
      "cell_type": "code",
      "execution_count": 16,
      "metadata": {
        "id": "QCkpNP5jG-VH"
      },
      "outputs": [],
      "source": [
        "class ClassifierHead(nn.Module):\n",
        "    \"\"\"\n",
        "    Classifier head for classification tasks.\n",
        "\n",
        "    Parameters:\n",
        "        embedding_model (torch.nn.Module): bert model.\n",
        "        num_classes (int): Number of classes for classification. Default is 2.\n",
        "    \"\"\"\n",
        "\n",
        "    def __init__(self, embedding_model, num_classes=2):\n",
        "        super().__init__()\n",
        "        ######################  TODO  ########################\n",
        "        ######################  TODO  ########################\n",
        "        # construct layers and structure of the network\n",
        "        self.embedder = embedding_model\n",
        "        self.classifier = nn.Linear(embedding_model.config.hidden_size, num_classes)\n",
        "        self.sigmoid = nn.Sigmoid()\n",
        "\n",
        "        ######################  TODO  ########################\n",
        "        ######################  TODO  ########################\n",
        "\n",
        "    def forward(self, input_ids, attention_mask):\n",
        "        \"\"\"\n",
        "        Forward pass of the ClassifierHead module.\n",
        "\n",
        "        Parameters:\n",
        "            input_ids (torch.Tensor): Tensor containing input token IDs.\n",
        "            attention_mask (torch.Tensor): Tensor containing attention mask.\n",
        "\n",
        "        Returns:\n",
        "            torch.Tensor: Output tensor of the classifier head.\n",
        "        \"\"\"\n",
        "        ######################  TODO  ########################\n",
        "        ######################  TODO  ########################\n",
        "        # implement the forward pass of your model.\n",
        "        # the sentence, the get the embeddings from your language\n",
        "        # model, then use the `pooler_output` for your classifier\n",
        "        # layer.\n",
        "\n",
        "        pooler_output = self.embedder(input_ids, attention_mask).pooler_output\n",
        "        output = self.classifier(pooler_output)\n",
        "        output = self.sigmoid(output)\n",
        "\n",
        "        ######################  TODO  ########################\n",
        "        ######################  TODO  ########################\n",
        "        return output"
      ]
    },
    {
      "cell_type": "code",
      "execution_count": 17,
      "metadata": {
        "id": "2481da2f-928f-4aa2-987d-3bae669c40fe"
      },
      "outputs": [],
      "source": [
        "# Define the function to compute metrics\n",
        "import evaluate\n",
        "accuracy = evaluate.load(\"accuracy\")\n",
        "\n",
        "# Define the BERT model\n",
        "bert = BertModel(config=config)\n",
        "\n",
        "# Define the classifier head\n",
        "cls_model = ClassifierHead(bert).to(device)\n",
        "optimizer = optim.Adam(cls_model.parameters(), lr=learning_rate)\n",
        "criterion = nn.BCELoss().to(device)\n",
        "######################  TODO  ########################\n",
        "######################  TODO  ########################"
      ]
    },
    {
      "cell_type": "code",
      "execution_count": 18,
      "metadata": {
        "id": "c1eeb910-6aa7-4432-912a-71ce1a8a9436",
        "colab": {
          "base_uri": "https://localhost:8080/"
        },
        "outputId": "a0513539-02af-4748-cf84-839cbf5ee848"
      },
      "outputs": [
        {
          "output_type": "stream",
          "name": "stdout",
          "text": [
            "Epoch 1/5, Average Loss: 0.6941\n",
            "Epoch 2/5, Average Loss: 0.6907\n",
            "Epoch 3/5, Average Loss: 0.6499\n",
            "Epoch 4/5, Average Loss: 0.5090\n",
            "Epoch 5/5, Average Loss: 0.4055\n"
          ]
        }
      ],
      "source": [
        "######################  TODO  ########################\n",
        "######################  TODO  ########################\n",
        "# implement your training loop and train your model.\n",
        "losses = []\n",
        "\n",
        "for epoch in range(num_epoch):\n",
        "    pp = 0\n",
        "    total_loss = 0.0\n",
        "\n",
        "    for batch in train_loader:\n",
        "        pp += 1\n",
        "\n",
        "        input_ids = batch['input_ids'].to(device)\n",
        "        attention_mask = batch['attention_mask'].to(device)\n",
        "        labels = batch['labels'].to(device)\n",
        "\n",
        "        outputs = cls_model(input_ids, attention_mask)\n",
        "\n",
        "        # Convert labels to one-hot encoding\n",
        "        labels_onehot = torch.nn.functional.one_hot(labels).float()\n",
        "\n",
        "        loss = criterion(outputs, labels_onehot)\n",
        "        total_loss += loss.item()\n",
        "        losses.append(total_loss / pp)\n",
        "\n",
        "        optimizer.zero_grad()\n",
        "        loss.backward()\n",
        "        optimizer.step()\n",
        "\n",
        "    avg_loss = total_loss / len(train_loader)\n",
        "\n",
        "    print(f'Epoch {epoch+1}/{num_epoch}, Average Loss: {avg_loss:.4f}')\n",
        "######################  TODO  ########################\n",
        "######################  TODO  ########################"
      ]
    },
    {
      "cell_type": "code",
      "source": [
        "# Plot the losse for every batch in training process\n",
        "plt.plot(losses)\n",
        "plt.xlabel('Epoch')\n",
        "plt.ylabel('Loss')\n",
        "plt.title('Training Loss')\n",
        "plt.show()"
      ],
      "metadata": {
        "colab": {
          "base_uri": "https://localhost:8080/",
          "height": 472
        },
        "id": "NTRJ0V6OtpPJ",
        "outputId": "109448e7-2c80-48e0-df1b-6e3fe4d15bac"
      },
      "execution_count": 19,
      "outputs": [
        {
          "output_type": "display_data",
          "data": {
            "text/plain": [
              "<Figure size 640x480 with 1 Axes>"
            ],
            "image/png": "[encoded data removed]"
          },
          "metadata": {}
        }
      ]
    },
    {
      "cell_type": "markdown",
      "source": [
        "# Eval if needed:"
      ],
      "metadata": {
        "id": "L0L33geDxWbl"
      }
    },
    {
      "cell_type": "code",
      "source": [
        "from sklearn.metrics import accuracy_score, precision_score, recall_score, f1_score\n",
        "\n",
        "cls_model.eval()\n",
        "\n",
        "all_predictions = []\n",
        "all_labels = []\n",
        "\n",
        "for batch in test_loader:\n",
        "    input_ids = batch['input_ids'].to(device)\n",
        "    attention_mask = batch['attention_mask'].to(device)\n",
        "    labels = batch['labels'].to(device)\n",
        "\n",
        "    with torch.no_grad():\n",
        "        outputs = cls_model(input_ids, attention_mask)\n",
        "\n",
        "    predictions = torch.argmax(outputs, dim=1)\n",
        "\n",
        "    all_predictions.extend(predictions.tolist())\n",
        "    all_labels.extend(labels.tolist())\n",
        "\n",
        "accuracy = accuracy_score(all_labels, all_predictions)\n",
        "precision = precision_score(all_labels, all_predictions)\n",
        "recall = recall_score(all_labels, all_predictions)\n",
        "f1 = f1_score(all_labels, all_predictions)\n",
        "\n",
        "print(f'Accuracy: {accuracy:.4f}')\n",
        "print(f'Precision: {precision:.4f}')\n",
        "print(f'Recall: {recall:.4f}')\n",
        "print(f'F1-Score: {f1:.4f}')\n"
      ],
      "metadata": {
        "colab": {
          "base_uri": "https://localhost:8080/"
        },
        "id": "YTkVqiSUxYhT",
        "outputId": "3b6a8d84-16d4-4e62-fd3d-db1d66027905"
      },
      "execution_count": 20,
      "outputs": [
        {
          "output_type": "stream",
          "name": "stdout",
          "text": [
            "Accuracy: 0.7608\n",
            "Precision: 0.8131\n",
            "Recall: 0.6773\n",
            "F1-Score: 0.7390\n"
          ]
        }
      ]
    },
    {
      "cell_type": "markdown",
      "metadata": {
        "id": "nCqfLbwlCb5z"
      },
      "source": [
        "## 2.3 BertForSequenceClassification + Hugginface Trainer"
      ]
    },
    {
      "cell_type": "markdown",
      "source": [
        "[HuggingFace library](http://huggingface.co/) has built a nice API for NLP tasks around the transformers. To get familiar with this comrehensive library, In this section you are asked to use the huggingface `Trainer`, `Dataset`, and `BertForSequenceClassification` to do what we did above again.\n",
        "\n",
        "Feel free to refer to the library documentation to learn about these modules.\n",
        "\n",
        "You should utilize the prepared dataset and configuration from earlier.(You can include any additional required attributes to configuration.)"
      ],
      "metadata": {
        "id": "EFonJMC90tFz"
      }
    },
    {
      "cell_type": "code",
      "execution_count": 21,
      "metadata": {
        "id": "U134E0yIdy4V",
        "colab": {
          "base_uri": "https://localhost:8080/",
          "height": 208
        },
        "outputId": "c6e5c4f4-d906-4021-d5e0-66702a29741b"
      },
      "outputs": [
        {
          "output_type": "stream",
          "name": "stderr",
          "text": [
            "Some weights of BertForSequenceClassification were not initialized from the model checkpoint at bert-base-uncased and are newly initialized: ['classifier.bias', 'classifier.weight']\n",
            "You should probably TRAIN this model on a down-stream task to be able to use it for predictions and inference.\n"
          ]
        },
        {
          "output_type": "display_data",
          "data": {
            "text/plain": [
              "<IPython.core.display.HTML object>"
            ],
            "text/html": [
              "\n",
              "    <div>\n",
              "      \n",
              "      <progress value='1335' max='1335' style='width:300px; height:20px; vertical-align: middle;'></progress>\n",
              "      [1335/1335 09:23, Epoch 5/5]\n",
              "    </div>\n",
              "    <table border=\"1\" class=\"dataframe\">\n",
              "  <thead>\n",
              " <tr style=\"text-align: left;\">\n",
              "      <th>Step</th>\n",
              "      <th>Training Loss</th>\n",
              "    </tr>\n",
              "  </thead>\n",
              "  <tbody>\n",
              "    <tr>\n",
              "      <td>500</td>\n",
              "      <td>0.292800</td>\n",
              "    </tr>\n",
              "    <tr>\n",
              "      <td>1000</td>\n",
              "      <td>0.063700</td>\n",
              "    </tr>\n",
              "  </tbody>\n",
              "</table><p>"
            ]
          },
          "metadata": {}
        },
        {
          "output_type": "execute_result",
          "data": {
            "text/plain": [
              "TrainOutput(global_step=1335, training_loss=0.13704600852080498, metrics={'train_runtime': 564.024, 'train_samples_per_second': 75.617, 'train_steps_per_second': 2.367, 'total_flos': 1707169360486800.0, 'train_loss': 0.13704600852080498, 'epoch': 5.0})"
            ]
          },
          "metadata": {},
          "execution_count": 21
        }
      ],
      "source": [
        "######################  TODO  ########################\n",
        "######################  TODO  ########################\n",
        "\n",
        "from transformers import Trainer, TrainingArguments, BertForSequenceClassification, DataCollatorWithPadding\n",
        "\n",
        "\n",
        "model_name = \"bert-base-uncased\"\n",
        "num_labels = 2\n",
        "config = {\"model_name\": model_name, \"num_labels\": num_labels}\n",
        "\n",
        "\n",
        "model = BertForSequenceClassification.from_pretrained(model_name, num_labels=num_labels)\n",
        "\n",
        "\n",
        "training_args = TrainingArguments(\n",
        "    output_dir=\"./results\",\n",
        "    num_train_epochs=num_epoch,\n",
        "    per_device_train_batch_size=batch_size,\n",
        "    save_steps=5000,\n",
        "    save_total_limit=10,\n",
        ")\n",
        "\n",
        "\n",
        "data_collator = DataCollatorWithPadding(tokenizer=tokenizer)\n",
        "\n",
        "\n",
        "trainer = Trainer(\n",
        "    model=model,\n",
        "    args=training_args,\n",
        "    train_dataset=cls_dataset['train'],\n",
        "    data_collator=data_collator,\n",
        "    eval_dataset=cls_dataset['test'],\n",
        ")\n",
        "\n",
        "trainer.train()\n",
        "\n",
        "######################  TODO  ########################\n",
        "######################  TODO  ########################"
      ]
    },
    {
      "cell_type": "code",
      "source": [
        "print(trainer.evaluate(cls_dataset['test']))"
      ],
      "metadata": {
        "colab": {
          "base_uri": "https://localhost:8080/",
          "height": 54
        },
        "id": "6UzQebEtybeg",
        "outputId": "631acc1f-866b-43c9-d0a9-5006d111a2eb"
      },
      "execution_count": 22,
      "outputs": [
        {
          "output_type": "display_data",
          "data": {
            "text/plain": [
              "<IPython.core.display.HTML object>"
            ],
            "text/html": [
              "\n",
              "    <div>\n",
              "      \n",
              "      <progress value='134' max='134' style='width:300px; height:20px; vertical-align: middle;'></progress>\n",
              "      [134/134 00:04]\n",
              "    </div>\n",
              "    "
            ]
          },
          "metadata": {}
        },
        {
          "output_type": "stream",
          "name": "stdout",
          "text": [
            "{'eval_loss': 0.8881009221076965, 'eval_runtime': 4.7031, 'eval_samples_per_second': 226.66, 'eval_steps_per_second': 28.492, 'epoch': 5.0}\n"
          ]
        }
      ]
    },
    {
      "cell_type": "code",
      "source": [],
      "metadata": {
        "id": "TGEzz_il05jj"
      },
      "execution_count": 22,
      "outputs": []
    }
  ],
  "metadata": {
    "accelerator": "GPU",
    "colab": {
      "gpuType": "T4",
      "provenance": []
    },
    "kernelspec": {
      "display_name": "Python 3",
      "name": "python3"
    },
    "language_info": {
      "name": "python"
    }
  },
  "nbformat": 4,
  "nbformat_minor": 0
}